{
  "nbformat": 4,
  "nbformat_minor": 0,
  "metadata": {
    "colab": {
      "name": "KlasifikasiMasyarakatMiskinPenerimaZakatKNN.ipynb",
      "provenance": [],
      "collapsed_sections": []
    },
    "kernelspec": {
      "name": "python3",
      "display_name": "Python 3"
    },
    "language_info": {
      "name": "python"
    }
  },
  "cells": [
    {
      "cell_type": "code",
      "metadata": {
        "id": "J52lHLPDMJO7"
      },
      "source": [
        "%matplotlib inline\n",
        "import numpy as np\n",
        "import matplotlib.pyplot as plt\n",
        "import pandas as pd\n",
        "from sklearn.model_selection import train_test_split\n",
        "from sklearn.neighbors import KNeighborsClassifier\n",
        "from sklearn import neighbors\n",
        "from matplotlib.colors import ListedColormap, BoundaryNorm\n",
        "import matplotlib.patches as mpatches"
      ],
      "execution_count": 33,
      "outputs": []
    },
    {
      "cell_type": "code",
      "metadata": {
        "id": "vMb2ts1UM4ei"
      },
      "source": [
        "data = pd.read_table('knndata.txt')"
      ],
      "execution_count": 34,
      "outputs": []
    },
    {
      "cell_type": "code",
      "metadata": {
        "colab": {
          "base_uri": "https://localhost:8080/",
          "height": 376
        },
        "id": "Feheo6a0NTYB",
        "outputId": "daee15b1-d1c4-48af-fbd3-4108855b59c7"
      },
      "source": [
        "print(data.shape)\n",
        "data.head(10) # Menampilkan 10 baris pertama dari tabel"
      ],
      "execution_count": 35,
      "outputs": [
        {
          "output_type": "stream",
          "text": [
            "(100, 8)\n"
          ],
          "name": "stdout"
        },
        {
          "output_type": "execute_result",
          "data": {
            "text/html": [
              "<div>\n",
              "<style scoped>\n",
              "    .dataframe tbody tr th:only-of-type {\n",
              "        vertical-align: middle;\n",
              "    }\n",
              "\n",
              "    .dataframe tbody tr th {\n",
              "        vertical-align: top;\n",
              "    }\n",
              "\n",
              "    .dataframe thead th {\n",
              "        text-align: right;\n",
              "    }\n",
              "</style>\n",
              "<table border=\"1\" class=\"dataframe\">\n",
              "  <thead>\n",
              "    <tr style=\"text-align: right;\">\n",
              "      <th></th>\n",
              "      <th>user_id</th>\n",
              "      <th>nama</th>\n",
              "      <th>alamat</th>\n",
              "      <th>penghasilan_perbulan</th>\n",
              "      <th>status_rumah</th>\n",
              "      <th>anggota_keluarga</th>\n",
              "      <th>label_miskin</th>\n",
              "      <th>status_miskin</th>\n",
              "    </tr>\n",
              "  </thead>\n",
              "  <tbody>\n",
              "    <tr>\n",
              "      <th>0</th>\n",
              "      <td>101010201</td>\n",
              "      <td>POPON</td>\n",
              "      <td>SURADE</td>\n",
              "      <td>650000</td>\n",
              "      <td>10</td>\n",
              "      <td>4</td>\n",
              "      <td>1</td>\n",
              "      <td>IYA</td>\n",
              "    </tr>\n",
              "    <tr>\n",
              "      <th>1</th>\n",
              "      <td>101010202</td>\n",
              "      <td>HERI</td>\n",
              "      <td>SURADE</td>\n",
              "      <td>650000</td>\n",
              "      <td>10</td>\n",
              "      <td>3</td>\n",
              "      <td>1</td>\n",
              "      <td>IYA</td>\n",
              "    </tr>\n",
              "    <tr>\n",
              "      <th>2</th>\n",
              "      <td>101010203</td>\n",
              "      <td>ENJANG</td>\n",
              "      <td>SURADE</td>\n",
              "      <td>1200000</td>\n",
              "      <td>10</td>\n",
              "      <td>4</td>\n",
              "      <td>1</td>\n",
              "      <td>IYA</td>\n",
              "    </tr>\n",
              "    <tr>\n",
              "      <th>3</th>\n",
              "      <td>101010204</td>\n",
              "      <td>AGUS SUHAEDI</td>\n",
              "      <td>SURADE</td>\n",
              "      <td>3000000</td>\n",
              "      <td>20</td>\n",
              "      <td>5</td>\n",
              "      <td>2</td>\n",
              "      <td>TIDAK</td>\n",
              "    </tr>\n",
              "    <tr>\n",
              "      <th>4</th>\n",
              "      <td>101010205</td>\n",
              "      <td>H. ENDIN</td>\n",
              "      <td>SURADE</td>\n",
              "      <td>5000000</td>\n",
              "      <td>30</td>\n",
              "      <td>5</td>\n",
              "      <td>2</td>\n",
              "      <td>TIDAK</td>\n",
              "    </tr>\n",
              "    <tr>\n",
              "      <th>5</th>\n",
              "      <td>101010206</td>\n",
              "      <td>ROJAK</td>\n",
              "      <td>SURADE</td>\n",
              "      <td>900000</td>\n",
              "      <td>10</td>\n",
              "      <td>3</td>\n",
              "      <td>1</td>\n",
              "      <td>IYA</td>\n",
              "    </tr>\n",
              "    <tr>\n",
              "      <th>6</th>\n",
              "      <td>101010207</td>\n",
              "      <td>HILMAN</td>\n",
              "      <td>SURADE</td>\n",
              "      <td>850000</td>\n",
              "      <td>10</td>\n",
              "      <td>4</td>\n",
              "      <td>1</td>\n",
              "      <td>IYA</td>\n",
              "    </tr>\n",
              "    <tr>\n",
              "      <th>7</th>\n",
              "      <td>101010208</td>\n",
              "      <td>ABAS BASRI</td>\n",
              "      <td>SURADE</td>\n",
              "      <td>800000</td>\n",
              "      <td>10</td>\n",
              "      <td>4</td>\n",
              "      <td>1</td>\n",
              "      <td>IYA</td>\n",
              "    </tr>\n",
              "    <tr>\n",
              "      <th>8</th>\n",
              "      <td>101010209</td>\n",
              "      <td>MANSUR AS'ARIE</td>\n",
              "      <td>SURADE</td>\n",
              "      <td>4500000</td>\n",
              "      <td>20</td>\n",
              "      <td>4</td>\n",
              "      <td>2</td>\n",
              "      <td>TIDAK</td>\n",
              "    </tr>\n",
              "    <tr>\n",
              "      <th>9</th>\n",
              "      <td>101010210</td>\n",
              "      <td>H. IJUD</td>\n",
              "      <td>SURADE</td>\n",
              "      <td>4500000</td>\n",
              "      <td>30</td>\n",
              "      <td>4</td>\n",
              "      <td>2</td>\n",
              "      <td>TIDAK</td>\n",
              "    </tr>\n",
              "  </tbody>\n",
              "</table>\n",
              "</div>"
            ],
            "text/plain": [
              "     user_id            nama  ... label_miskin  status_miskin\n",
              "0  101010201           POPON  ...            1            IYA\n",
              "1  101010202            HERI  ...            1            IYA\n",
              "2  101010203          ENJANG  ...            1            IYA\n",
              "3  101010204    AGUS SUHAEDI  ...            2          TIDAK\n",
              "4  101010205        H. ENDIN  ...            2          TIDAK\n",
              "5  101010206           ROJAK  ...            1            IYA\n",
              "6  101010207         HILMAN   ...            1            IYA\n",
              "7  101010208      ABAS BASRI  ...            1            IYA\n",
              "8  101010209  MANSUR AS'ARIE  ...            2          TIDAK\n",
              "9  101010210         H. IJUD  ...            2          TIDAK\n",
              "\n",
              "[10 rows x 8 columns]"
            ]
          },
          "metadata": {
            "tags": []
          },
          "execution_count": 35
        }
      ]
    },
    {
      "cell_type": "code",
      "metadata": {
        "colab": {
          "base_uri": "https://localhost:8080/"
        },
        "id": "QhzLeZVGByhC",
        "outputId": "ee2cb772-3a5c-475d-df33-918c247a1440"
      },
      "source": [
        "print(data.groupby('status_miskin').size())"
      ],
      "execution_count": 36,
      "outputs": [
        {
          "output_type": "stream",
          "text": [
            "status_miskin\n",
            "IYA      42\n",
            "TIDAK    58\n",
            "dtype: int64\n"
          ],
          "name": "stdout"
        }
      ]
    },
    {
      "cell_type": "code",
      "metadata": {
        "colab": {
          "base_uri": "https://localhost:8080/",
          "height": 335
        },
        "id": "ugWR8vmMkAE5",
        "outputId": "f1971a49-9c67-48ae-bfbf-683b6f92fa24"
      },
      "source": [
        "import seaborn as sns\n",
        "sns.countplot(data['status_miskin'],label=\"Count\")\n",
        "plt.show()"
      ],
      "execution_count": 37,
      "outputs": [
        {
          "output_type": "stream",
          "text": [
            "/usr/local/lib/python3.7/dist-packages/seaborn/_decorators.py:43: FutureWarning: Pass the following variable as a keyword arg: x. From version 0.12, the only valid positional argument will be `data`, and passing other arguments without an explicit keyword will result in an error or misinterpretation.\n",
            "  FutureWarning\n"
          ],
          "name": "stderr"
        },
        {
          "output_type": "display_data",
          "data": {
            "image/png": "[encoded data removed]",
            "text/plain": [
              "<Figure size 432x288 with 1 Axes>"
            ]
          },
          "metadata": {
            "tags": [],
            "needs_background": "light"
          }
        }
      ]
    },
    {
      "cell_type": "code",
      "metadata": {
        "colab": {
          "base_uri": "https://localhost:8080/",
          "height": 603
        },
        "id": "x9wfZDMwkG-w",
        "outputId": "29c14080-7b86-4bd4-cf11-6f397d051ac3"
      },
      "source": [
        "data.drop('label_miskin', axis=1).plot(kind='box', subplots=True, layout=(2,2), sharex=False, sharey=False, figsize=(9,9), \n",
        "                                        title='Box Plot for each input variable')\n",
        "plt.savefig('data_box')\n",
        "plt.show()"
      ],
      "execution_count": 38,
      "outputs": [
        {
          "output_type": "display_data",
          "data": {
            "image/png": "[encoded data removed]",
            "text/plain": [
              "<Figure size 648x648 with 4 Axes>"
            ]
          },
          "metadata": {
            "tags": [],
            "needs_background": "light"
          }
        }
      ]
    },
    {
      "cell_type": "code",
      "metadata": {
        "colab": {
          "base_uri": "https://localhost:8080/",
          "height": 602
        },
        "id": "2AY6ope1kK4Y",
        "outputId": "8b038610-5590-4b0b-f888-51889bdd0401"
      },
      "source": [
        "import pylab as pl\n",
        "data.drop('label_miskin' ,axis=1).hist(bins=30, figsize=(9,9))\n",
        "pl.suptitle(\"Histogram for each numeric input variable\")\n",
        "plt.savefig('data_hist')\n",
        "plt.show()"
      ],
      "execution_count": 39,
      "outputs": [
        {
          "output_type": "display_data",
          "data": {
            "image/png": "[encoded data removed]",
            "text/plain": [
              "<Figure size 648x648 with 4 Axes>"
            ]
          },
          "metadata": {
            "tags": [],
            "needs_background": "light"
          }
        }
      ]
    },
    {
      "cell_type": "code",
      "metadata": {
        "colab": {
          "base_uri": "https://localhost:8080/",
          "height": 619
        },
        "id": "z3LkAw21kSe8",
        "outputId": "b46a4e77-a02a-4930-8527-8d68d81a4915"
      },
      "source": [
        "from pandas.plotting import scatter_matrix\n",
        "from matplotlib import cm\n",
        "feature_names = ['penghasilan_perbulan', 'status_rumah', 'anggota_keluarga']\n",
        "X = data[feature_names]\n",
        "y = data['label_miskin']\n",
        "cmap = cm.get_cmap('gnuplot')\n",
        "scatter = scatter_matrix(X, c = y, marker = 'o', s=40, hist_kwds={'bins':15}, figsize=(9,9), cmap = cmap)\n",
        "plt.suptitle('Scatter-matrix for each input variable')\n",
        "plt.savefig('data_scatter_matrix')"
      ],
      "execution_count": 40,
      "outputs": [
        {
          "output_type": "display_data",
          "data": {
            "image/png": "[encoded data removed]",
            "text/plain": [
              "<Figure size 648x648 with 9 Axes>"
            ]
          },
          "metadata": {
            "tags": [],
            "needs_background": "light"
          }
        }
      ]
    },
    {
      "cell_type": "code",
      "metadata": {
        "colab": {
          "base_uri": "https://localhost:8080/"
        },
        "id": "E3ByI8OiN2R8",
        "outputId": "02006dcd-b574-48a8-ee7b-07ba450d7dfa"
      },
      "source": [
        "## membuat dict key pair value  antara label_zakat dengan menerima_zakat\n",
        "lookup_status_miskin = dict(zip(data.label_miskin.unique(), data.status_miskin.unique()))   \n",
        "print(lookup_status_miskin)"
      ],
      "execution_count": 41,
      "outputs": [
        {
          "output_type": "stream",
          "text": [
            "{1: 'IYA', 2: 'TIDAK'}\n"
          ],
          "name": "stdout"
        }
      ]
    },
    {
      "cell_type": "code",
      "metadata": {
        "id": "1HYeo7FjOiw4"
      },
      "source": [
        "# Pada kasus ini explanatory variablenya adalah penghasilan_perbulan, status_rumah dan anggota_keluarga sedangkan target variablenya adalah label_miskin\n",
        "X = data[['penghasilan_perbulan', 'status_rumah', 'anggota_keluarga']]\n",
        "y = data['label_miskin']\n",
        "\n",
        "\n",
        "# kita akan mensplit menjadi 80% train data and 20% test data \n",
        "X_train, X_test, y_train, y_test = train_test_split(X, y, test_size = 0.2, random_state=0)"
      ],
      "execution_count": 42,
      "outputs": []
    },
    {
      "cell_type": "code",
      "metadata": {
        "colab": {
          "base_uri": "https://localhost:8080/"
        },
        "id": "wE5P5jVFPvKP",
        "outputId": "5f036340-a9f2-498c-955f-85b88ac25709"
      },
      "source": [
        "# Chek dimensi array dari massing masing variable\n",
        "print('X_train = ', X_train.shape)\n",
        "print('X_test = ', X_test.shape)\n",
        "print('y_train = ', y_train.shape)\n",
        "print('y_test = ', y_test.shape)"
      ],
      "execution_count": 43,
      "outputs": [
        {
          "output_type": "stream",
          "text": [
            "X_train =  (80, 3)\n",
            "X_test =  (20, 3)\n",
            "y_train =  (80,)\n",
            "y_test =  (20,)\n"
          ],
          "name": "stdout"
        }
      ]
    },
    {
      "cell_type": "code",
      "metadata": {
        "colab": {
          "base_uri": "https://localhost:8080/",
          "height": 204
        },
        "id": "6LLkBOcsPzfg",
        "outputId": "4e8d5547-84de-414e-f0e5-5f0b0bc7f3cf"
      },
      "source": [
        "X_train.head()"
      ],
      "execution_count": 44,
      "outputs": [
        {
          "output_type": "execute_result",
          "data": {
            "text/html": [
              "<div>\n",
              "<style scoped>\n",
              "    .dataframe tbody tr th:only-of-type {\n",
              "        vertical-align: middle;\n",
              "    }\n",
              "\n",
              "    .dataframe tbody tr th {\n",
              "        vertical-align: top;\n",
              "    }\n",
              "\n",
              "    .dataframe thead th {\n",
              "        text-align: right;\n",
              "    }\n",
              "</style>\n",
              "<table border=\"1\" class=\"dataframe\">\n",
              "  <thead>\n",
              "    <tr style=\"text-align: right;\">\n",
              "      <th></th>\n",
              "      <th>penghasilan_perbulan</th>\n",
              "      <th>status_rumah</th>\n",
              "      <th>anggota_keluarga</th>\n",
              "    </tr>\n",
              "  </thead>\n",
              "  <tbody>\n",
              "    <tr>\n",
              "      <th>43</th>\n",
              "      <td>3100000</td>\n",
              "      <td>20</td>\n",
              "      <td>3</td>\n",
              "    </tr>\n",
              "    <tr>\n",
              "      <th>62</th>\n",
              "      <td>4000000</td>\n",
              "      <td>30</td>\n",
              "      <td>5</td>\n",
              "    </tr>\n",
              "    <tr>\n",
              "      <th>3</th>\n",
              "      <td>3000000</td>\n",
              "      <td>20</td>\n",
              "      <td>5</td>\n",
              "    </tr>\n",
              "    <tr>\n",
              "      <th>71</th>\n",
              "      <td>1000000</td>\n",
              "      <td>10</td>\n",
              "      <td>4</td>\n",
              "    </tr>\n",
              "    <tr>\n",
              "      <th>45</th>\n",
              "      <td>3100000</td>\n",
              "      <td>20</td>\n",
              "      <td>3</td>\n",
              "    </tr>\n",
              "  </tbody>\n",
              "</table>\n",
              "</div>"
            ],
            "text/plain": [
              "    penghasilan_perbulan  status_rumah  anggota_keluarga\n",
              "43               3100000            20                 3\n",
              "62               4000000            30                 5\n",
              "3                3000000            20                 5\n",
              "71               1000000            10                 4\n",
              "45               3100000            20                 3"
            ]
          },
          "metadata": {
            "tags": []
          },
          "execution_count": 44
        }
      ]
    },
    {
      "cell_type": "code",
      "metadata": {
        "colab": {
          "base_uri": "https://localhost:8080/"
        },
        "id": "QTJnDR41P-px",
        "outputId": "1baf29c6-d7a0-4729-8efd-9e2a7200895b"
      },
      "source": [
        "y_train.head()"
      ],
      "execution_count": 45,
      "outputs": [
        {
          "output_type": "execute_result",
          "data": {
            "text/plain": [
              "43    2\n",
              "62    2\n",
              "3     2\n",
              "71    1\n",
              "45    2\n",
              "Name: label_miskin, dtype: int64"
            ]
          },
          "metadata": {
            "tags": []
          },
          "execution_count": 45
        }
      ]
    },
    {
      "cell_type": "code",
      "metadata": {
        "colab": {
          "base_uri": "https://localhost:8080/",
          "height": 204
        },
        "id": "zEfTztPvs1DR",
        "outputId": "0be431a3-8ffb-40cb-a49c-f9aa9cb34147"
      },
      "source": [
        "X_test.head()"
      ],
      "execution_count": 46,
      "outputs": [
        {
          "output_type": "execute_result",
          "data": {
            "text/html": [
              "<div>\n",
              "<style scoped>\n",
              "    .dataframe tbody tr th:only-of-type {\n",
              "        vertical-align: middle;\n",
              "    }\n",
              "\n",
              "    .dataframe tbody tr th {\n",
              "        vertical-align: top;\n",
              "    }\n",
              "\n",
              "    .dataframe thead th {\n",
              "        text-align: right;\n",
              "    }\n",
              "</style>\n",
              "<table border=\"1\" class=\"dataframe\">\n",
              "  <thead>\n",
              "    <tr style=\"text-align: right;\">\n",
              "      <th></th>\n",
              "      <th>penghasilan_perbulan</th>\n",
              "      <th>status_rumah</th>\n",
              "      <th>anggota_keluarga</th>\n",
              "    </tr>\n",
              "  </thead>\n",
              "  <tbody>\n",
              "    <tr>\n",
              "      <th>26</th>\n",
              "      <td>5200000</td>\n",
              "      <td>30</td>\n",
              "      <td>4</td>\n",
              "    </tr>\n",
              "    <tr>\n",
              "      <th>86</th>\n",
              "      <td>1000000</td>\n",
              "      <td>10</td>\n",
              "      <td>4</td>\n",
              "    </tr>\n",
              "    <tr>\n",
              "      <th>2</th>\n",
              "      <td>1200000</td>\n",
              "      <td>10</td>\n",
              "      <td>4</td>\n",
              "    </tr>\n",
              "    <tr>\n",
              "      <th>55</th>\n",
              "      <td>1500000</td>\n",
              "      <td>10</td>\n",
              "      <td>4</td>\n",
              "    </tr>\n",
              "    <tr>\n",
              "      <th>75</th>\n",
              "      <td>2500000</td>\n",
              "      <td>20</td>\n",
              "      <td>5</td>\n",
              "    </tr>\n",
              "  </tbody>\n",
              "</table>\n",
              "</div>"
            ],
            "text/plain": [
              "    penghasilan_perbulan  status_rumah  anggota_keluarga\n",
              "26               5200000            30                 4\n",
              "86               1000000            10                 4\n",
              "2                1200000            10                 4\n",
              "55               1500000            10                 4\n",
              "75               2500000            20                 5"
            ]
          },
          "metadata": {
            "tags": []
          },
          "execution_count": 46
        }
      ]
    },
    {
      "cell_type": "code",
      "metadata": {
        "colab": {
          "base_uri": "https://localhost:8080/"
        },
        "id": "_AxKXitbs_-i",
        "outputId": "7a44fd5a-0371-4bef-95cb-081240d01250"
      },
      "source": [
        "y_test.head()"
      ],
      "execution_count": 47,
      "outputs": [
        {
          "output_type": "execute_result",
          "data": {
            "text/plain": [
              "26    2\n",
              "86    1\n",
              "2     1\n",
              "55    1\n",
              "75    2\n",
              "Name: label_miskin, dtype: int64"
            ]
          },
          "metadata": {
            "tags": []
          },
          "execution_count": 47
        }
      ]
    },
    {
      "cell_type": "code",
      "metadata": {
        "colab": {
          "base_uri": "https://localhost:8080/"
        },
        "id": "exaAg4aQQExC",
        "outputId": "a329148e-4249-4986-9cbd-ab001fd90ac8"
      },
      "source": [
        "# Create classifier objet\n",
        "knn = KNeighborsClassifier(n_neighbors = 5,\n",
        "                           weights='uniform',\n",
        "                           algorithm='auto',\n",
        "                           metric='euclidean')\n",
        "\n",
        "# Train the classifier using train data\n",
        "knn.fit(X_train, y_train)"
      ],
      "execution_count": 48,
      "outputs": [
        {
          "output_type": "execute_result",
          "data": {
            "text/plain": [
              "KNeighborsClassifier(algorithm='auto', leaf_size=30, metric='euclidean',\n",
              "                     metric_params=None, n_jobs=None, n_neighbors=5, p=2,\n",
              "                     weights='uniform')"
            ]
          },
          "metadata": {
            "tags": []
          },
          "execution_count": 48
        }
      ]
    },
    {
      "cell_type": "code",
      "metadata": {
        "colab": {
          "base_uri": "https://localhost:8080/"
        },
        "id": "pz7O0nDLRH4s",
        "outputId": "8e3a7db4-c786-48dc-ed1a-15554a36f2be"
      },
      "source": [
        "knn.score(X_test, y_test)"
      ],
      "execution_count": 49,
      "outputs": [
        {
          "output_type": "execute_result",
          "data": {
            "text/plain": [
              "1.0"
            ]
          },
          "metadata": {
            "tags": []
          },
          "execution_count": 49
        }
      ]
    },
    {
      "cell_type": "code",
      "metadata": {
        "id": "TpBzcewfRfJe",
        "colab": {
          "base_uri": "https://localhost:8080/",
          "height": 281
        },
        "outputId": "2ff151ac-ba54-4a57-ab30-a9e24da64c60"
      },
      "source": [
        "import matplotlib.patches as mpatches\n",
        "import matplotlib.pyplot as plt\n",
        "from sklearn import neighbors\n",
        "import numpy\n",
        " \n",
        "def plot_masyarakat_miskin(X, y, n_neighbors, weights, X_test, y_test):\n",
        "    X_mat = X \n",
        "    y_mat = y\n",
        " \n",
        "    # Membuat warna map\n",
        "    cmap_light = ListedColormap(['#FFFFAA', '#AAFFAA', '#AAAAFF','#EFEFEF'])\n",
        "    cmap_bold  = ListedColormap(['#FFFF00', '#00FF00', '#0000FF','#000000'])\n",
        " \n",
        "    clf = neighbors.KNeighborsClassifier(n_neighbors, weights=weights)\n",
        "    clf.fit(X_mat, y_mat)\n",
        " \n",
        "    # Plot batas keputusan dengan menetapkan warna di peta warna\n",
        "    # ke setiap titik di mesh.\n",
        "    \n",
        "    mesh_step_size = .01  \n",
        "    plot_symbol_size = 50\n",
        "    \n",
        "    x_min, x_max = X_mat[:, 0].min() - 1, X_mat[:, 0].max() + 1\n",
        "    y_min, y_max = X_mat[:, 1].min() - 1, X_mat[:, 1].max() + 1\n",
        "    xx, yy = numpy.meshgrid(numpy.arange(x_min, x_max, mesh_step_size),\n",
        "                           numpy.arange(y_min, y_max, mesh_step_size))\n",
        "    Z = clf.predict(numpy.c_[xx.ravel(), yy.ravel()])\n",
        " \n",
        "    # Masukkan hasilnya ke dalam plot warna\n",
        "    Z = Z.reshape(xx.shape)\n",
        "    plt.figure()\n",
        "    plt.pcolormesh(xx, yy, Z, cmap=cmap_light)\n",
        " \n",
        "    # Plot training poin\n",
        "    plt.scatter(X_mat[:, 0], X_mat[:, 1], s=plot_symbol_size, c=y, cmap=cmap_bold, edgecolor = 'black')\n",
        "    plt.xlim(xx.min(), xx.max())\n",
        "    plt.ylim(yy.min(), yy.max())\n",
        " \n",
        "    title = \"Neighbors = {}\".format(n_neighbors)\n",
        "    if (X_test is not None):\n",
        "        train_score = clf.score(X_mat, y_mat)\n",
        "        test_score  = clf.score(X_test, y_test)\n",
        "        title = title + \"\\nTrain score = {:.7}, Test score = {:.7}\".format(train_score, test_score)\n",
        " \n",
        "    patch0 = mpatches.Patch(color='#FFFF00', label='IYA')\n",
        "    patch1 = mpatches.Patch(color='#000000', label='TIDAK')\n",
        "    plt.legend(handles=[patch0, patch1])\n",
        "    plt.xlabel('IYA')\n",
        "    plt.ylabel('TIDAK')\n",
        "    plt.title(title)\n",
        "    plt.show()\n",
        " \n",
        "from sklearn.datasets import make_classification, make_blobs\n",
        "from matplotlib.colors import ListedColormap\n",
        " \n",
        "cmap_bold = ListedColormap(['#FFFF00', '#00FF00', '#0000FF','#000000'])\n",
        " \n",
        "\n",
        "plt.figure()\n",
        "plt.title('klasifikasi Masyarakat Miskin')\n",
        "X_C2, y_C2 = make_classification(n_samples = 100, n_features=2,\n",
        "                                n_redundant=0, n_informative=2,\n",
        "                                n_clusters_per_class=1, flip_y = 0.2,\n",
        "                                class_sep = 0.5, random_state=0)\n",
        " \n",
        "plt.scatter(X_C2[:, 0], X_C2[:, 1], c=y_C2,\n",
        "           marker= 'o', s=50, cmap=cmap_bold)\n",
        "plt.show()"
      ],
      "execution_count": 50,
      "outputs": [
        {
          "output_type": "display_data",
          "data": {
            "image/png": "[encoded data removed]",
            "text/plain": [
              "<Figure size 432x288 with 1 Axes>"
            ]
          },
          "metadata": {
            "tags": [],
            "needs_background": "light"
          }
        }
      ]
    },
    {
      "cell_type": "code",
      "metadata": {
        "colab": {
          "base_uri": "https://localhost:8080/",
          "height": 310
        },
        "id": "YX0a1qohlo7I",
        "outputId": "99301af5-4b4f-427a-cf30-1a7e33407805"
      },
      "source": [
        "X_train, X_test, y_train, y_test = train_test_split(X_C2, y_C2, random_state=0)\n",
        " \n",
        "plot_masyarakat_miskin(X_train, y_train, 5, 'uniform', X_test, y_test)"
      ],
      "execution_count": 51,
      "outputs": [
        {
          "output_type": "display_data",
          "data": {
            "image/png": "[encoded data removed]",
            "text/plain": [
              "<Figure size 432x288 with 1 Axes>"
            ]
          },
          "metadata": {
            "tags": [],
            "needs_background": "light"
          }
        }
      ]
    },
    {
      "cell_type": "code",
      "metadata": {
        "id": "534NCuj-aYfx",
        "colab": {
          "base_uri": "https://localhost:8080/",
          "height": 35
        },
        "outputId": "1ba7f6d6-7d7a-48e6-bac1-32e668abfde9"
      },
      "source": [
        "# prediksi masyarakat miskin dengan penghasilan_perbulan 800.000, status_rumah 10 dan angota_keluarga 4\n",
        "miskin_prediction = knn.predict([[800000, 10, 4]])\n",
        "lookup_status_miskin[miskin_prediction[0]]"
      ],
      "execution_count": 52,
      "outputs": [
        {
          "output_type": "execute_result",
          "data": {
            "application/vnd.google.colaboratory.intrinsic+json": {
              "type": "string"
            },
            "text/plain": [
              "'IYA'"
            ]
          },
          "metadata": {
            "tags": []
          },
          "execution_count": 52
        }
      ]
    },
    {
      "cell_type": "code",
      "metadata": {
        "id": "hdI51olubIDo",
        "colab": {
          "base_uri": "https://localhost:8080/",
          "height": 35
        },
        "outputId": "96f2b085-5a7c-443e-f580-3cdc00fa89cc"
      },
      "source": [
        "# prediksi masyarakat miskin dengan penghasilan_perbulan 1.000.000, status_rumah 10 dan angota_keluarga 4\n",
        "miskin_prediction = knn.predict([[4000000, 20, 4]])\n",
        "lookup_status_miskin[miskin_prediction[0]]"
      ],
      "execution_count": 53,
      "outputs": [
        {
          "output_type": "execute_result",
          "data": {
            "application/vnd.google.colaboratory.intrinsic+json": {
              "type": "string"
            },
            "text/plain": [
              "'TIDAK'"
            ]
          },
          "metadata": {
            "tags": []
          },
          "execution_count": 53
        }
      ]
    }
  ]
}